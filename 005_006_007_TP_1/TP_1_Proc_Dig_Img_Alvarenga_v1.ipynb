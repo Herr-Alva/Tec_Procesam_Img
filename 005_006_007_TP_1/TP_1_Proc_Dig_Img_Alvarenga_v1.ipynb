{
  "nbformat": 4,
  "nbformat_minor": 0,
  "metadata": {
    "colab": {
      "provenance": []
    },
    "kernelspec": {
      "name": "python3",
      "display_name": "Python 3"
    },
    "language_info": {
      "name": "python"
    }
  },
  "cells": [
    {
      "cell_type": "markdown",
      "source": [
        "# Ejercicios de Procesamiento Digital de Imágenes\n",
        "\n",
        "\n",
        "---\n",
        "\n",
        "\n",
        "* Prof: Barreto, Matías\n",
        "* Alumno: Alvarenga de Pedro, Hernán Misael\n",
        "* DNI: 30.596.631\n",
        "* email: 30596631@ifts24.edu.ar\n",
        "\n",
        "\n",
        "---\n",
        "* Espacios de Color\n",
        "* Muestreo y Cuantización\n",
        "* Segmentación por Color"
      ],
      "metadata": {
        "id": "S4sPz4mm-5GB"
      }
    },
    {
      "cell_type": "markdown",
      "source": [
        "# 1. Espacios de Color"
      ],
      "metadata": {
        "id": "pNZushNjTGSn"
      }
    },
    {
      "cell_type": "markdown",
      "source": [
        "a) Cargar la imagen con OpenCV y mostrar los canales BGR por separado.\n"
      ],
      "metadata": {
        "id": "LK3U6ow3Tsga"
      }
    },
    {
      "cell_type": "code",
      "source": [
        "import numpy as np\n",
        "import cv2\n",
        "from cv2 import imread\n",
        "import matplotlib.pyplot as plt\n",
        "from google.colab.patches import cv2_imshow"
      ],
      "metadata": {
        "id": "zTHh5zk8_QzN"
      },
      "execution_count": null,
      "outputs": []
    },
    {
      "cell_type": "code",
      "source": [
        "!pip install scikit-image watermark -q"
      ],
      "metadata": {
        "id": "fabzDnYAq6ko"
      },
      "execution_count": null,
      "outputs": []
    },
    {
      "cell_type": "code",
      "source": [
        "%load_ext watermark\n",
        "%watermark\n",
        "%watermark --iversions"
      ],
      "metadata": {
        "id": "ZQtgktn9q-1s"
      },
      "execution_count": null,
      "outputs": []
    },
    {
      "cell_type": "code",
      "source": [
        "!wget https://github.com/Herr-Alva/TP_1_Proces_imag_Windows/blob/main/images/windows.jpeg?raw=true"
      ],
      "metadata": {
        "id": "yrVrvWq8rCgO"
      },
      "execution_count": null,
      "outputs": []
    },
    {
      "cell_type": "code",
      "source": [
        "windows = cv2.imread('/content/windows.jpeg?raw=true')\n",
        "\n",
        "# Visualización de la imagen completa\n",
        "cv2_imshow(windows)\n",
        "\n",
        "# Información básica de la imagen\n",
        "print(\"Dimensiones de la imagen:\", windows.shape)\n",
        "print(\"Tipo de datos:\", windows.dtype)\n",
        "print(\"Tamaño en memoria (bytes):\", windows.nbytes)"
      ],
      "metadata": {
        "id": "XvQpB04TACce"
      },
      "execution_count": null,
      "outputs": []
    },
    {
      "cell_type": "markdown",
      "source": [
        "b) Identificar cuál de los tres canales tiene mayor información basándose en los valores promedio."
      ],
      "metadata": {
        "id": "BnZ56ERxnOHu"
      }
    },
    {
      "cell_type": "code",
      "source": [
        "# Canal Azul (B)\n",
        "B = windows[:,:,0]\n",
        "print(\"Estadísticas del canal Azul:\")\n",
        "print(f\"Valor mínimo: {B.min()}, Valor máximo: {B.max()}, Promedio: {B.mean():.2f}\")\n",
        "cv2_imshow(B)"
      ],
      "metadata": {
        "id": "bqJEP8mlEVzI"
      },
      "execution_count": null,
      "outputs": []
    },
    {
      "cell_type": "code",
      "source": [
        "# Canal Verde (G)\n",
        "G = windows[:,:,1]\n",
        "print(\"\\nEstadísticas del canal Verde:\")\n",
        "print(f\"Valor mínimo: {G.min()}, Valor máximo: {G.max()}, Promedio: {G.mean():.2f}\")\n",
        "cv2_imshow(G)"
      ],
      "metadata": {
        "id": "eC3AEGxOEioO"
      },
      "execution_count": null,
      "outputs": []
    },
    {
      "cell_type": "code",
      "source": [
        "# Canal Rojo (R)\n",
        "R = windows[:,:,2]\n",
        "print(\"\\nEstadísticas del canal Rojo:\")\n",
        "print(f\"Valor mínimo: {R.min()}, Valor máximo: {R.max()}, Promedio: {R.mean():.2f}\")\n",
        "cv2_imshow(R)"
      ],
      "metadata": {
        "id": "-8jVG1qREqms"
      },
      "execution_count": null,
      "outputs": []
    },
    {
      "cell_type": "markdown",
      "source": [
        "Se accede a los canales como windows[:, :, 0], windows[:, :, 1], windows[:, :, 2]."
      ],
      "metadata": {
        "id": "EwJbOeGApoTz"
      }
    },
    {
      "cell_type": "code",
      "source": [
        "# Obtener los canales de color\n",
        "B = windows[:, :, 0]  # Canal azul\n",
        "G = windows[:, :, 1]  # Canal verde\n",
        "R = windows[:, :, 2]  # Canal rojo\n",
        "\n",
        "# Crear un subplot con 1 fila y 3 columnas\n",
        "fig, axes = plt.subplots(1, 3, figsize=(15, 5))\n",
        "\n",
        "# Lista de canales y sus nombres\n",
        "canales = [B, G, R]\n",
        "nombres_canales = ['Canal Azul', 'Canal Verde', 'Canal Rojo']\n",
        "\n",
        "# Inicializar variables para el canal con mayor promedio\n",
        "canal_mayor_prom = None\n",
        "mayor_prom = -1  # Valor inicial bajo para asegurar la primera comparación\n",
        "\n",
        "# Iterar sobre los canales y mostrar las estadísticas\n",
        "for i, canal in enumerate(canales):\n",
        "    axes[i].imshow(canal, cmap='gray')\n",
        "    axes[i].set_title(nombres_canales[i])\n",
        "\n",
        "    # Calcular y mostrar estadísticas\n",
        "    min_val = canal.min()\n",
        "    max_val = canal.max()\n",
        "    avg_val = canal.mean()\n",
        "    stats_text = f\"Mín: {min_val}, Máx: {max_val}, Prom: {avg_val:.2f}\"\n",
        "    axes[i].text(0.05, 0.95, stats_text, transform=axes[i].transAxes,\n",
        "                 color='white', fontsize=10, verticalalignment='top',\n",
        "                 bbox=dict(facecolor='black', alpha=0.5))\n",
        "\n",
        "    # Actualizar canal con mayor promedio si es necesario\n",
        "    if avg_val > mayor_prom:\n",
        "        mayor_prom = avg_val\n",
        "        canal_mayor_prom = nombres_canales[i]\n",
        "\n",
        "# Imprimir el resultado\n",
        "print(f\"El canal con mayor promedio de información es: {canal_mayor_prom}\")\n",
        "\n",
        "# Ajustar el espaciado entre los subplots\n",
        "plt.tight_layout()\n",
        "\n",
        "# Mostrar la figura\n",
        "plt.show()"
      ],
      "metadata": {
        "id": "g42t18P2F77w"
      },
      "execution_count": null,
      "outputs": []
    },
    {
      "cell_type": "markdown",
      "source": [
        "Se entiende que el canal con mayor promedio tiende a aportar más \"luminosidad\" o presencia en la imagen."
      ],
      "metadata": {
        "id": "I4319mm4pYek"
      }
    },
    {
      "cell_type": "markdown",
      "source": [
        "c) Convertir la imagen de BGR a RGB y explicar por qué los colores se ven diferentes antes y después de la conversión."
      ],
      "metadata": {
        "id": "-xOYI-cZnVUY"
      }
    },
    {
      "cell_type": "code",
      "source": [
        "# Lectura de la imagen con OpenCV (BGR por defecto)\n",
        "windows_rgb = cv2.imread('/content/windows.jpeg?raw=true.1')\n",
        "\n",
        "# Visualización con Matplotlib\n",
        "plt.figure(figsize=(10,8))\n",
        "plt.imshow(windows_rgb)\n",
        "plt.title('Ventanas RGB en Matplotlib')\n",
        "plt.axis('on')\n",
        "plt.colorbar()\n",
        "plt.show()"
      ],
      "metadata": {
        "id": "yTYNgC94GeK3"
      },
      "execution_count": null,
      "outputs": []
    },
    {
      "cell_type": "markdown",
      "source": [
        "Los colores se ven distintos porque OpenCV almacena las imágenes como BGR, mientras que matplotlib interpreta los datos como RGB. Esto provoca inversión de colores, por ejemplo: lo que debería ser rojo aparece azul."
      ],
      "metadata": {
        "id": "2cnpEnbMpUXU"
      }
    },
    {
      "cell_type": "code",
      "source": [
        "# Configuración de subplots\n",
        "fig, axes = plt.subplots(2, 2, figsize=(15,15))\n",
        "fig.suptitle('Análisis de Canales RGB', fontsize=16)\n",
        "\n",
        "# Imagen Original\n",
        "axes[0,0].imshow(windows_rgb)\n",
        "axes[0,0].set_title('Imagen Original')\n",
        "\n",
        "# Canal Rojo\n",
        "axes[0,1].imshow(windows_rgb[:,:,0], cmap='gray')\n",
        "axes[0,1].set_title('Canal Rojo')\n",
        "\n",
        "# Canal Verde\n",
        "axes[1,0].imshow(windows_rgb[:,:,1], cmap='gray')\n",
        "axes[1,0].set_title('Canal Verde')\n",
        "\n",
        "# Canal Azul\n",
        "axes[1,1].imshow(windows_rgb[:,:,2], cmap='gray')\n",
        "axes[1,1].set_title('Canal Azul')\n",
        "\n",
        "plt.tight_layout()\n",
        "plt.show()"
      ],
      "metadata": {
        "id": "c5Kb1bemN1BF"
      },
      "execution_count": null,
      "outputs": []
    },
    {
      "cell_type": "code",
      "source": [
        "fig, axes = plt.subplots(1, 3, figsize=(15, 5))  # 1 fila, 3 columnas\n",
        "\n",
        "# Canal Rojo\n",
        "axes[0].imshow(windows_rgb[:,:,0], cmap='Reds')\n",
        "axes[0].set_title('Canal Rojo')\n",
        "\n",
        "# Canal Verde\n",
        "axes[1].imshow(windows_rgb[:,:,1], cmap='Greens')\n",
        "axes[1].set_title('Canal Verde')\n",
        "\n",
        "# Canal Azul\n",
        "axes[2].imshow(windows_rgb[:,:,2], cmap='Blues')\n",
        "axes[2].set_title('Canal Azul')\n",
        "\n",
        "plt.tight_layout()\n",
        "plt.show()"
      ],
      "metadata": {
        "id": "3AAC8gzMO5Aj"
      },
      "execution_count": null,
      "outputs": []
    },
    {
      "cell_type": "code",
      "source": [
        "# Demostración de conversión BGR a RGB\n",
        "windows_bgr = cv2.imread('/content/windows.jpeg?raw=true.1')\n",
        "windows_rgb = cv2.cvtColor(windows_bgr, cv2.COLOR_BGR2RGB)\n",
        "\n",
        "# Visualización comparativa\n",
        "fig, (ax1, ax2) = plt.subplots(1, 2, figsize=(15,7))\n",
        "\n",
        "ax1.imshow(windows_bgr)\n",
        "ax1.set_title('Ventanas BGR mostrada como RGB\\n(Colores Incorrectos)')\n",
        "\n",
        "ax2.imshow(windows_rgb)\n",
        "ax2.set_title('Ventanas convertida a RGB\\n(Colores Correctos)')\n",
        "\n",
        "plt.show()"
      ],
      "metadata": {
        "id": "5wC7J48gPpOO"
      },
      "execution_count": null,
      "outputs": []
    },
    {
      "cell_type": "markdown",
      "source": [
        "# 2. Muestreo y Cuantización"
      ],
      "metadata": {
        "id": "dAyJCMFNTbup"
      }
    },
    {
      "cell_type": "markdown",
      "source": [
        "a) Aplicar muestreo espacial a una imagen con factores de 2, 4 y 8."
      ],
      "metadata": {
        "id": "H0P1XL2inbxL"
      }
    },
    {
      "cell_type": "code",
      "source": [
        "# Convertir la imagen a escala de grises\n",
        "windows_gray = cv2.cvtColor(windows, cv2.COLOR_BGR2GRAY)\n",
        "\n",
        "# Mostrar la imagen en escala de grises\n",
        "plt.figure(figsize=(8,8))   # Crea figura de 8x8 pulgadas\n",
        "plt.imshow(windows_gray, cmap='gray')  # Muestra imagen en escala de grises\n",
        "plt.title('Ventanas Original')\n",
        "plt.show()                  # Muestra la figura\n",
        "\n",
        "# Información básica de la imagen\n",
        "print(\"Dimensiones de la imagen:\", windows_gray.shape)\n",
        "print(\"Tipo de datos:\", windows_gray.dtype)\n",
        "print(\"Tamaño en memoria (bytes):\", windows_gray.nbytes)\n",
        "print('Máximo =', np.max(windows_gray))   # Valor más alto (más blanco)\n",
        "print('Mínimo =', np.min(windows_gray))   # Valor más bajo (más negro)"
      ],
      "metadata": {
        "id": "IFfgolbTQsg_"
      },
      "execution_count": null,
      "outputs": []
    },
    {
      "cell_type": "code",
      "source": [
        "d = 2   # Factor de muestreo: toma 1 pixel cada 'd' pixeles\n",
        "(Nx,Mx) = windows_gray.shape          # Obtiene dimensiones de imagen original\n",
        "ix = range(0,Nx,d)         # Crea secuencia de 0 a Nx saltando de d en d\n",
        "jx = range(0,Mx,d)         # Igual para columnas\n",
        "Ny = len(ix)               # Nueva altura = número de filas a tomar\n",
        "My = len(jx)               # Nueva anchura = número de columnas a tomar\n",
        "\n",
        "# Crea nueva imagen muestreada\n",
        "windows_fac = np.zeros((Ny,My), np.uint8)  # Matriz vacía de enteros 0-255\n",
        "for i in range(Ny):              # Para cada fila\n",
        "    for j in range(My):          # Para cada columna\n",
        "        windows_fac[i,j] = windows_gray[ix[i],jx[j]]  # Copia el pixel correspondiente\n",
        "\n",
        "# Muestra imagen muestreada\n",
        "plt.figure(figsize=(8,8))\n",
        "plt.imshow(windows_fac, cmap='gray')\n",
        "plt.title(f'Imagen Muestreada (factor {d})')\n",
        "plt.show()\n",
        "print(\"Dimensiones de la imagen:\", windows_fac.shape)\n",
        "print(\"Tipo de datos:\", windows_fac.dtype)\n",
        "print(\"Tamaño en memoria (bytes):\", windows_fac.nbytes)\n",
        "print('Máximo =', np.max(windows_fac))   # Valor más alto (más blanco)\n",
        "print('Mínimo =', np.min(windows_fac))   # Valor más bajo (más negro)\n",
        "print(f'Resolución reducida de {Nx}x{Mx} a {Ny}x{My} pixels')"
      ],
      "metadata": {
        "id": "E5yIGwP4sUgZ"
      },
      "execution_count": null,
      "outputs": []
    },
    {
      "cell_type": "code",
      "source": [
        "d = 4   # Factor de muestreo: toma 1 pixel cada 'd' pixeles\n",
        "(Nx,Mx) = windows_gray.shape          # Obtiene dimensiones de imagen original\n",
        "ix = range(0,Nx,d)         # Crea secuencia de 0 a Nx saltando de d en d\n",
        "jx = range(0,Mx,d)         # Igual para columnas\n",
        "Ny = len(ix)               # Nueva altura = número de filas a tomar\n",
        "My = len(jx)               # Nueva anchura = número de columnas a tomar\n",
        "\n",
        "# Crea nueva imagen muestreada\n",
        "windows_fac = np.zeros((Ny,My), np.uint8)  # Matriz vacía de enteros 0-255\n",
        "for i in range(Ny):              # Para cada fila\n",
        "    for j in range(My):          # Para cada columna\n",
        "        windows_fac[i,j] = windows_gray[ix[i],jx[j]]  # Copia el pixel correspondiente\n",
        "\n",
        "# Muestra imagen muestreada\n",
        "plt.figure(figsize=(8,8))\n",
        "plt.imshow(windows_fac, cmap='gray')\n",
        "plt.title(f'Imagen Muestreada (factor {d})')\n",
        "plt.show()\n",
        "print(\"Dimensiones de la imagen:\", windows_fac.shape)\n",
        "print(\"Tipo de datos:\", windows_fac.dtype)\n",
        "print(\"Tamaño en memoria (bytes):\", windows_fac.nbytes)\n",
        "print('Máximo =', np.max(windows_fac))   # Valor más alto (más blanco)\n",
        "print('Mínimo =', np.min(windows_fac))   # Valor más bajo (más negro)\n",
        "print(f'Resolución reducida de {Nx}x{Mx} a {Ny}x{My} pixels')"
      ],
      "metadata": {
        "id": "LGKMc6iBtBlO"
      },
      "execution_count": null,
      "outputs": []
    },
    {
      "cell_type": "code",
      "source": [
        "d = 8   # Factor de muestreo: toma 1 pixel cada 'd' pixeles\n",
        "(Nx,Mx) = windows_gray.shape          # Obtiene dimensiones de imagen original\n",
        "ix = range(0,Nx,d)         # Crea secuencia de 0 a Nx saltando de d en d\n",
        "jx = range(0,Mx,d)         # Igual para columnas\n",
        "Ny = len(ix)               # Nueva altura = número de filas a tomar\n",
        "My = len(jx)               # Nueva anchura = número de columnas a tomar\n",
        "\n",
        "# Crea nueva imagen muestreada\n",
        "windows_fac = np.zeros((Ny,My), np.uint8)  # Matriz vacía de enteros 0-255\n",
        "for i in range(Ny):              # Para cada fila\n",
        "    for j in range(My):          # Para cada columna\n",
        "        windows_fac[i,j] = windows_gray[ix[i],jx[j]]  # Copia el pixel correspondiente\n",
        "\n",
        "# Muestra imagen muestreada\n",
        "plt.figure(figsize=(8,8))\n",
        "plt.imshow(windows_fac, cmap='gray')\n",
        "plt.title(f'Ventanas Muestreadas (factor {d})')\n",
        "plt.show()\n",
        "print(\"Dimensiones de la imagen:\", windows_fac.shape)\n",
        "print(\"Tipo de datos:\", windows_fac.dtype)\n",
        "print(\"Tamaño en memoria (bytes):\", windows_fac.nbytes)\n",
        "print('Máximo =', np.max(windows_fac))   # Valor más alto (más blanco)\n",
        "print('Mínimo =', np.min(windows_fac))   # Valor más bajo (más negro)\n",
        "print(f'Resolución reducida de {Nx}x{Mx} a {Ny}x{My} pixels')"
      ],
      "metadata": {
        "id": "YKErP6v2tzfp"
      },
      "execution_count": null,
      "outputs": []
    },
    {
      "cell_type": "code",
      "source": [
        "# Factores de muestreo\n",
        "factores = [2, 4, 8]\n",
        "\n",
        "# Crear un subplot con 1 fila y 3 columnas\n",
        "fig, axes = plt.subplots(1, 3, figsize=(15, 5))\n",
        "\n",
        "# Iterar sobre los factores de muestreo\n",
        "for i, factor in enumerate(factores):\n",
        "    # Aplicar muestreo con OpenCV\n",
        "    height, width = windows_rgb.shape[:2]\n",
        "    windows_fac = cv2.resize(\n",
        "        windows_rgb,\n",
        "        (width // factor, height // factor),\n",
        "        interpolation=cv2.INTER_AREA\n",
        "    )\n",
        "\n",
        "    # Mostrar imagen muestreada en el subplot\n",
        "    axes[i].imshow(windows_fac)\n",
        "    axes[i].set_title(f'Factor de Muestreo: {factor}')\n",
        "    axes[i].axis('off')\n",
        "\n",
        "    # Agregar información adicional\n",
        "    Ny, Mx = windows_rgb.shape[:2]\n",
        "    ny, mx = windows_fac.shape[:2]\n",
        "\n",
        "    info_text = f\"\"\"\n",
        "    Dimensiones: {windows_fac.shape}\n",
        "    Tipo de datos: {windows_fac.dtype}\n",
        "    Tamaño (bytes): {windows_fac.nbytes}\n",
        "    Máximo: {np.max(windows_fac)}\n",
        "    Mínimo: {np.min(windows_fac)}\n",
        "    Resolución: {Ny}x{Mx} → {ny}x{mx}\n",
        "    \"\"\"\n",
        "    fig.text(0.1 + i * 0.3, 0.05, info_text,\n",
        "             color='black', fontsize=10, verticalalignment='top')\n",
        "\n",
        "# Ajustar espaciado\n",
        "plt.tight_layout()\n",
        "plt.subplots_adjust(bottom=0.25)  # más espacio para el texto\n",
        "\n",
        "# Mostrar la figura\n",
        "plt.show()\n"
      ],
      "metadata": {
        "id": "qIH-Y19zqnHb"
      },
      "execution_count": null,
      "outputs": []
    },
    {
      "cell_type": "markdown",
      "source": [
        "El muestreo reduce la resolución espacial (menos píxeles), lo cual ahorra memoria pero puede provocar la pérdida de detalles importantes."
      ],
      "metadata": {
        "id": "oOAu3m1NqAqW"
      }
    },
    {
      "cell_type": "code",
      "source": [
        "d = 16   # Factor de muestreo: toma 1 pixel cada 'd' pixeles\n",
        "(Nx,Mx) = windows_gray.shape          # Obtiene dimensiones de imagen original\n",
        "ix = range(0,Nx,d)         # Crea secuencia de 0 a Nx saltando de d en d\n",
        "jx = range(0,Mx,d)         # Igual para columnas\n",
        "Ny = len(ix)               # Nueva altura = número de filas a tomar\n",
        "My = len(jx)               # Nueva anchura = número de columnas a tomar\n",
        "\n",
        "# Crea nueva imagen muestreada\n",
        "windows_fac = np.zeros((Ny,My), np.uint8)  # Matriz vacía de enteros 0-255\n",
        "for i in range(Ny):              # Para cada fila\n",
        "    for j in range(My):          # Para cada columna\n",
        "        windows_fac[i,j] = windows_gray[ix[i],jx[j]]  # Copia el pixel correspondiente\n",
        "\n",
        "# Muestra imagen muestreada\n",
        "plt.figure(figsize=(8,8))\n",
        "plt.imshow(windows_fac, cmap='gray')\n",
        "plt.title(f'Ventanas Muestreadas (factor {d})')\n",
        "plt.show()\n",
        "print(\"Dimensiones de la imagen:\", windows_fac.shape)\n",
        "print(\"Tipo de datos:\", windows_fac.dtype)\n",
        "print(\"Tamaño en memoria (bytes):\", windows_fac.nbytes)\n",
        "print('Máximo =', np.max(windows_fac))   # Valor más alto (más blanco)\n",
        "print('Mínimo =', np.min(windows_fac))   # Valor más bajo (más negro)\n",
        "print(f'Resolución reducida de {Nx}x{Mx} a {Ny}x{My} pixels')"
      ],
      "metadata": {
        "id": "F4M6aZrLt2oA"
      },
      "execution_count": null,
      "outputs": []
    },
    {
      "cell_type": "code",
      "source": [
        "d = 32   # Factor de muestreo: toma 1 pixel cada 'd' pixeles\n",
        "(Nx,Mx) = windows_gray.shape          # Obtiene dimensiones de imagen original\n",
        "ix = range(0,Nx,d)         # Crea secuencia de 0 a Nx saltando de d en d\n",
        "jx = range(0,Mx,d)         # Igual para columnas\n",
        "Ny = len(ix)               # Nueva altura = número de filas a tomar\n",
        "My = len(jx)               # Nueva anchura = número de columnas a tomar\n",
        "\n",
        "# Crea nueva imagen muestreada\n",
        "windows_fac = np.zeros((Ny,My), np.uint8)  # Matriz vacía de enteros 0-255\n",
        "for i in range(Ny):              # Para cada fila\n",
        "    for j in range(My):          # Para cada columna\n",
        "        windows_fac[i,j] = windows_gray[ix[i],jx[j]]  # Copia el pixel correspondiente\n",
        "\n",
        "# Muestra imagen muestreada\n",
        "plt.figure(figsize=(8,8))\n",
        "plt.imshow(windows_fac, cmap='gray')\n",
        "plt.title(f'Ventanas Muestreadas (factor {d})')\n",
        "plt.show()\n",
        "print(\"Dimensiones de la imagen:\", windows_fac.shape)\n",
        "print(\"Tipo de datos:\", windows_fac.dtype)\n",
        "print(\"Tamaño en memoria (bytes):\", windows_fac.nbytes)\n",
        "print('Máximo =', np.max(windows_fac))   # Valor más alto (más blanco)\n",
        "print('Mínimo =', np.min(windows_fac))   # Valor más bajo (más negro)\n",
        "print(f'Resolución reducida de {Nx}x{Mx} a {Ny}x{My} pixels')"
      ],
      "metadata": {
        "id": "WuDUX_Qjt53q"
      },
      "execution_count": null,
      "outputs": []
    },
    {
      "cell_type": "code",
      "source": [
        "d = 64   # Factor de muestreo: toma 1 pixel cada 'd' pixeles\n",
        "(Nx,Mx) = windows_gray.shape          # Obtiene dimensiones de imagen original\n",
        "ix = range(0,Nx,d)         # Crea secuencia de 0 a Nx saltando de d en d\n",
        "jx = range(0,Mx,d)         # Igual para columnas\n",
        "Ny = len(ix)               # Nueva altura = número de filas a tomar\n",
        "My = len(jx)               # Nueva anchura = número de columnas a tomar\n",
        "\n",
        "# Crea nueva imagen muestreada\n",
        "windows_fac = np.zeros((Ny,My), np.uint8)  # Matriz vacía de enteros 0-255\n",
        "for i in range(Ny):              # Para cada fila\n",
        "    for j in range(My):          # Para cada columna\n",
        "        windows_fac[i,j] = windows_gray[ix[i],jx[j]]  # Copia el pixel correspondiente\n",
        "\n",
        "# Muestra imagen muestreada\n",
        "plt.figure(figsize=(8,8))\n",
        "plt.imshow(windows_fac, cmap='gray')\n",
        "plt.title(f'Ventanas Muestreadas (factor {d})')\n",
        "plt.show()\n",
        "print(\"Dimensiones de la imagen:\", windows_fac.shape)\n",
        "print(\"Tipo de datos:\", windows_fac.dtype)\n",
        "print(\"Tamaño en memoria (bytes):\", windows_fac.nbytes)\n",
        "print('Máximo =', np.max(windows_fac))   # Valor más alto (más blanco)\n",
        "print('Mínimo =', np.min(windows_fac))   # Valor más bajo (más negro)\n",
        "print(f'Resolución reducida de {Nx}x{Mx} a {Ny}x{My} pixels')"
      ],
      "metadata": {
        "id": "E6m0x85dt9H7"
      },
      "execution_count": null,
      "outputs": []
    },
    {
      "cell_type": "code",
      "source": [
        "# Factores de muestreo\n",
        "factores = [16, 32, 64]\n",
        "\n",
        "# Crear un subplot con 1 fila y 3 columnas\n",
        "fig, axes = plt.subplots(1, 3, figsize=(15, 5))\n",
        "\n",
        "# Iterar sobre los factores de muestreo\n",
        "for i, factor in enumerate(factores):\n",
        "    # Aplicar muestreo con OpenCV\n",
        "    height, width = windows_rgb.shape[:2]\n",
        "    windows_fac = cv2.resize(\n",
        "        windows_rgb,\n",
        "        (width // factor, height // factor),\n",
        "        interpolation=cv2.INTER_AREA\n",
        "    )\n",
        "\n",
        "    # Mostrar imagen muestreada en el subplot\n",
        "    axes[i].imshow(windows_fac)\n",
        "    axes[i].set_title(f'Factor de Muestreo: {factor}')\n",
        "    axes[i].axis('off')\n",
        "\n",
        "    # Agregar información adicional\n",
        "    Ny, Mx = windows_rgb.shape[:2]\n",
        "    ny, mx = windows_fac.shape[:2]\n",
        "\n",
        "    info_text = f\"\"\"\n",
        "    Dimensiones: {windows_fac.shape}\n",
        "    Tipo de datos: {windows_fac.dtype}\n",
        "    Tamaño (bytes): {windows_fac.nbytes}\n",
        "    Máximo: {np.max(windows_fac)}\n",
        "    Mínimo: {np.min(windows_fac)}\n",
        "    Resolución: {Ny}x{Mx} → {ny}x{mx}\n",
        "    \"\"\"\n",
        "    fig.text(0.1 + i * 0.3, 0.05, info_text,\n",
        "             color='black', fontsize=10, verticalalignment='top')\n",
        "\n",
        "# Ajustar espaciado\n",
        "plt.tight_layout()\n",
        "plt.subplots_adjust(bottom=0.25)  # más espacio para el texto\n",
        "\n",
        "# Mostrar la figura\n",
        "plt.show()\n"
      ],
      "metadata": {
        "id": "egWt_8fMw4M_"
      },
      "execution_count": null,
      "outputs": []
    },
    {
      "cell_type": "markdown",
      "source": [
        "## Cuantizacion"
      ],
      "metadata": {
        "id": "zg1RwAg_yLYe"
      }
    },
    {
      "cell_type": "markdown",
      "source": [
        "Aplicar cuantización con 4 niveles diferentes (32, 64, 128, 256)"
      ],
      "metadata": {
        "id": "vgU728LVKNXq"
      }
    },
    {
      "cell_type": "code",
      "source": [
        "# ... (código para leer y convertir la imagen 'windows' a escala de grises) ...\n",
        "\n",
        "def hist(img):\n",
        "    h = np.zeros(256)  # Vector para contar ocurrencias\n",
        "    for i in range(img.shape[0]):  # Para cada fila\n",
        "        for j in range(img.shape[1]):  # Para cada columna\n",
        "            h[img[i, j]] += 1  # Incrementa contador del nivel de gris\n",
        "    return h / np.sum(h)  # Normaliza para obtener probabilidades\n",
        "\n",
        "q = 32  # Factor de cuantización\n",
        "\n",
        "# Cuantizar la imagen en escala de grises\n",
        "windows_gray_q = np.floor(windows_gray / q) * q\n",
        "windows_gray_q = windows_gray_q.astype(np.uint8)\n",
        "\n",
        "# Cuantizar la imagen original (BGR o RGB)\n",
        "windows_q = np.floor(windows / q) * q\n",
        "windows_q = windows_q.astype(np.uint8)\n",
        "\n",
        "windows_q_bgr = cv2.cvtColor(windows_q, cv2.COLOR_BGR2RGB)\n",
        "\n",
        "(Nx, Mx) = windows_gray.shape\n",
        "\n",
        "# Crear un subplot con 2 filas y 3 columnas\n",
        "fig, axes = plt.subplots(2, 3, figsize=(15, 10))\n",
        "\n",
        "# Mostrar las imágenes y histogramas\n",
        "images = [windows_gray_q, windows_q, windows_q_bgr]\n",
        "titles = ['Ventanas Cuantizadas (Escala de Grises) N32',\n",
        "          'Ventanas Cuantizadas (BGR) N32', 'Ventanas Cuantizadas (RGB) N32']\n",
        "cmaps = ['gray', None, None]  # cmap solo para la imagen en escala de grises\n",
        "\n",
        "for i, (img, title, cmap) in enumerate(zip(images, titles, cmaps)):\n",
        "    row = i // 3  # Calcular la fila del subplot\n",
        "    col = i % 3  # Calcular la columna del subplot\n",
        "    axes[row, col].imshow(img, cmap=cmap)\n",
        "    axes[row, col].set_title(title)\n",
        "\n",
        "    # Calcular y mostrar el histograma en la segunda fila (curva)\n",
        "    h = hist(img)\n",
        "    axes[row + 1, col].plot(h)\n",
        "    axes[row + 1, col].set_title(f'Histograma de {title}')\n",
        "    axes[row + 1, col].set_xlabel('Nivel de gris')\n",
        "    axes[row + 1, col].set_ylabel('Número de pixels')\n",
        "    axes[row + 1, col].grid(True, alpha=0.3)  # Agregar grid\n",
        "\n",
        "# Ajustar el espaciado entre los subplots (mayor espaciado)\n",
        "plt.tight_layout(pad=3.0)  # Ajustar pad para mayor espaciado\n",
        "plt.subplots_adjust(\n",
        "    bottom=0.2, hspace=0.5)  # Ajustar hspace para mayor espaciado vertical\n",
        "\n",
        "# Mostrar la figura\n",
        "plt.show()"
      ],
      "metadata": {
        "id": "Rj-Uz5I3BHCr"
      },
      "execution_count": null,
      "outputs": []
    },
    {
      "cell_type": "code",
      "source": [
        "# ... (código para leer y convertir la imagen 'windows' a escala de grises) ...\n",
        "\n",
        "def hist(img):\n",
        "    h = np.zeros(256)  # Vector para contar ocurrencias\n",
        "    for i in range(img.shape[0]):  # Para cada fila\n",
        "        for j in range(img.shape[1]):  # Para cada columna\n",
        "            h[img[i, j]] += 1  # Incrementa contador del nivel de gris\n",
        "    return h / np.sum(h)  # Normaliza para obtener probabilidades\n",
        "\n",
        "q = 64  # Factor de cuantización\n",
        "\n",
        "# Cuantizar la imagen en escala de grises\n",
        "windows_gray_q = np.floor(windows_gray / q) * q\n",
        "windows_gray_q = windows_gray_q.astype(np.uint8)\n",
        "\n",
        "# Cuantizar la imagen original (BGR o RGB)\n",
        "windows_q = np.floor(windows / q) * q\n",
        "windows_q = windows_q.astype(np.uint8)\n",
        "\n",
        "windows_q_bgr = cv2.cvtColor(windows_q, cv2.COLOR_BGR2RGB)\n",
        "\n",
        "(Nx, Mx) = windows_gray.shape\n",
        "\n",
        "# Crear un subplot con 2 filas y 3 columnas\n",
        "fig, axes = plt.subplots(2, 3, figsize=(15, 10))\n",
        "\n",
        "# Mostrar las imágenes y histogramas\n",
        "images = [windows_gray_q, windows_q, windows_q_bgr]\n",
        "titles = ['Ventanas Cuantizadas (Escala de Grises) N64',\n",
        "          'Ventanas Cuantizadas (BGR) N64', 'Ventanas Cuantizadas (RGB) N64']\n",
        "cmaps = ['gray', None, None]  # cmap solo para la imagen en escala de grises\n",
        "\n",
        "for i, (img, title, cmap) in enumerate(zip(images, titles, cmaps)):\n",
        "    row = i // 3  # Calcular la fila del subplot\n",
        "    col = i % 3  # Calcular la columna del subplot\n",
        "    axes[row, col].imshow(img, cmap=cmap)\n",
        "    axes[row, col].set_title(title)\n",
        "\n",
        "    # Calcular y mostrar el histograma en la segunda fila (curva)\n",
        "    h = hist(img)\n",
        "    axes[row + 1, col].plot(h)\n",
        "    axes[row + 1, col].set_title(f'Histograma de {title}')\n",
        "    axes[row + 1, col].set_xlabel('Nivel de gris')\n",
        "    axes[row + 1, col].set_ylabel('Número de pixels')\n",
        "    axes[row + 1, col].grid(True, alpha=0.3)  # Agregar grid\n",
        "\n",
        "# Ajustar el espaciado entre los subplots (mayor espaciado)\n",
        "plt.tight_layout(pad=3.0)  # Ajustar pad para mayor espaciado\n",
        "plt.subplots_adjust(\n",
        "    bottom=0.2, hspace=0.5)  # Ajustar hspace para mayor espaciado vertical\n",
        "\n",
        "# Mostrar la figura\n",
        "plt.show()"
      ],
      "metadata": {
        "id": "GXciexnfE39S"
      },
      "execution_count": null,
      "outputs": []
    },
    {
      "cell_type": "code",
      "source": [
        "# ... (código para leer y convertir la imagen 'windows' a escala de grises) ...\n",
        "\n",
        "def hist(img):\n",
        "    h = np.zeros(256)  # Vector para contar ocurrencias\n",
        "    for i in range(img.shape[0]):  # Para cada fila\n",
        "        for j in range(img.shape[1]):  # Para cada columna\n",
        "            h[img[i, j]] += 1  # Incrementa contador del nivel de gris\n",
        "    return h / np.sum(h)  # Normaliza para obtener probabilidades\n",
        "\n",
        "q = 128  # Factor de cuantización\n",
        "\n",
        "# Cuantizar la imagen en escala de grises\n",
        "windows_gray_q = np.floor(windows_gray / q) * q\n",
        "windows_gray_q = windows_gray_q.astype(np.uint8)\n",
        "\n",
        "# Cuantizar la imagen original (BGR o RGB)\n",
        "windows_q = np.floor(windows / q) * q\n",
        "windows_q = windows_q.astype(np.uint8)\n",
        "\n",
        "windows_q_bgr = cv2.cvtColor(windows_q, cv2.COLOR_BGR2RGB)\n",
        "\n",
        "(Nx, Mx) = windows_gray.shape\n",
        "\n",
        "# Crear un subplot con 2 filas y 3 columnas\n",
        "fig, axes = plt.subplots(2, 3, figsize=(15, 10))\n",
        "\n",
        "# Mostrar las imágenes y histogramas\n",
        "images = [windows_gray_q, windows_q, windows_q_bgr]\n",
        "titles = ['Ventanas Cuantizadas (Escala de Grises) N128',\n",
        "          'Ventanas Cuantizadas (BGR) N128', 'Ventanas Cuantizadas (RGB) N128']\n",
        "cmaps = ['gray', None, None]  # cmap solo para la imagen en escala de grises\n",
        "\n",
        "for i, (img, title, cmap) in enumerate(zip(images, titles, cmaps)):\n",
        "    row = i // 3  # Calcular la fila del subplot\n",
        "    col = i % 3  # Calcular la columna del subplot\n",
        "    axes[row, col].imshow(img, cmap=cmap)\n",
        "    axes[row, col].set_title(title)\n",
        "\n",
        "    # Calcular y mostrar el histograma en la segunda fila (curva)\n",
        "    h = hist(img)\n",
        "    axes[row + 1, col].plot(h)\n",
        "    axes[row + 1, col].set_title(f'Histograma de {title}')\n",
        "    axes[row + 1, col].set_xlabel('Nivel de gris')\n",
        "    axes[row + 1, col].set_ylabel('Número de pixels')\n",
        "    axes[row + 1, col].grid(True, alpha=0.3)  # Agregar grid\n",
        "\n",
        "# Ajustar el espaciado entre los subplots (mayor espaciado)\n",
        "plt.tight_layout(pad=3.0)  # Ajustar pad para mayor espaciado\n",
        "plt.subplots_adjust(\n",
        "    bottom=0.2, hspace=0.5)  # Ajustar hspace para mayor espaciado vertical\n",
        "\n",
        "# Mostrar la figura\n",
        "plt.show()"
      ],
      "metadata": {
        "id": "m3FtbWkvHu45"
      },
      "execution_count": null,
      "outputs": []
    },
    {
      "cell_type": "code",
      "source": [
        "# ... (código para leer y convertir la imagen 'windows' a escala de grises) ...\n",
        "\n",
        "def hist(img):\n",
        "    h = np.zeros(256)  # Vector para contar ocurrencias\n",
        "    for i in range(img.shape[0]):  # Para cada fila\n",
        "        for j in range(img.shape[1]):  # Para cada columna\n",
        "            h[img[i, j]] += 1  # Incrementa contador del nivel de gris\n",
        "    return h / np.sum(h)  # Normaliza para obtener probabilidades\n",
        "\n",
        "q = 256  # Factor de cuantización\n",
        "\n",
        "# Cuantizar la imagen en escala de grises\n",
        "windows_gray_q = np.floor(windows_gray / q) * q\n",
        "windows_gray_q = windows_gray_q.astype(np.uint8)\n",
        "\n",
        "# Cuantizar la imagen original (BGR o RGB)\n",
        "windows_q = np.floor(windows / q) * q\n",
        "windows_q = windows_q.astype(np.uint8)\n",
        "\n",
        "windows_q_bgr = cv2.cvtColor(windows_q, cv2.COLOR_BGR2RGB)\n",
        "\n",
        "(Nx, Mx) = windows_gray.shape\n",
        "\n",
        "# Crear un subplot con 2 filas y 3 columnas\n",
        "fig, axes = plt.subplots(2, 3, figsize=(15, 10))\n",
        "\n",
        "# Mostrar las imágenes y histogramas\n",
        "images = [windows_gray_q, windows_q, windows_q_bgr]\n",
        "titles = ['Ventanas Cuantizadas (Escala de Grises) N256',\n",
        "          'Ventanas Cuantizadas (BGR) N256', 'Ventanas Cuantizadas (RGB) N256']\n",
        "cmaps = ['gray', None, None]  # cmap solo para la imagen en escala de grises\n",
        "\n",
        "for i, (img, title, cmap) in enumerate(zip(images, titles, cmaps)):\n",
        "    row = i // 3  # Calcular la fila del subplot\n",
        "    col = i % 3  # Calcular la columna del subplot\n",
        "    axes[row, col].imshow(img, cmap=cmap)\n",
        "    axes[row, col].set_title(title)\n",
        "\n",
        "    # Calcular y mostrar el histograma en la segunda fila (curva)\n",
        "    h = hist(img)\n",
        "    axes[row + 1, col].plot(h)\n",
        "    axes[row + 1, col].set_title(f'Histograma de {title}')\n",
        "    axes[row + 1, col].set_xlabel('Nivel de gris')\n",
        "    axes[row + 1, col].set_ylabel('Número de pixels')\n",
        "    axes[row + 1, col].grid(True, alpha=0.3)  # Agregar grid\n",
        "\n",
        "# Ajustar el espaciado entre los subplots (mayor espaciado)\n",
        "plt.tight_layout(pad=3.0)  # Ajustar pad para mayor espaciado\n",
        "plt.subplots_adjust(\n",
        "    bottom=0.2, hspace=0.5)  # Ajustar hspace para mayor espaciado vertical\n",
        "\n",
        "# Mostrar la figura\n",
        "plt.show()"
      ],
      "metadata": {
        "id": "bkodQYFLIJg3"
      },
      "execution_count": null,
      "outputs": []
    },
    {
      "cell_type": "code",
      "source": [
        "# ... (código para leer y convertir la imagen 'windows' a escala de grises) ...\n",
        "\n",
        "def hist(img):\n",
        "    h = np.zeros(256)  # Vector para contar ocurrencias\n",
        "    for i in range(img.shape[0]):  # Para cada fila\n",
        "        for j in range(img.shape[1]):  # Para cada columna\n",
        "            h[img[i, j]] += 1  # Incrementa contador del nivel de gris\n",
        "    return h / np.sum(h)  # Normaliza para obtener probabilidades\n",
        "\n",
        "q = 32  # Factor de cuantización\n",
        "\n",
        "# Cuantizar la imagen en escala de grises\n",
        "windows_gray_q = np.floor(windows_gray / q) * q\n",
        "windows_gray_q = windows_gray_q.astype(np.uint8)\n",
        "\n",
        "# Cuantizar la imagen original (BGR o RGB)\n",
        "windows_q = np.floor(windows / q) * q\n",
        "windows_q = windows_q.astype(np.uint8)\n",
        "\n",
        "# Cuantizar canales separados (RGB)\n",
        "windows_q_red = windows.copy()\n",
        "windows_q_red[:, :, 2] = np.floor(windows[:, :, 2] / q) * q\n",
        "windows_q_red = windows_q_red.astype(np.uint8)\n",
        "\n",
        "windows_q_green = windows.copy()\n",
        "windows_q_green[:, :, 1] = np.floor(windows[:, :, 1] / q) * q\n",
        "windows_q_green = windows_q_green.astype(np.uint8)\n",
        "\n",
        "windows_q_blue = windows.copy()\n",
        "windows_q_blue[:, :, 0] = np.floor(windows[:, :, 0] / q) * q\n",
        "windows_q_blue = windows_q_blue.astype(np.uint8)\n",
        "\n",
        "(Nx, Mx) = windows_gray.shape\n",
        "\n",
        "# Crear un subplot con 2 filas y 3 columnas para las imágenes BGR\n",
        "fig_bgr, axes_bgr = plt.subplots(2, 3, figsize=(15, 10))\n",
        "fig_bgr.suptitle('Ventanas Cuantizadas (BGR)', fontsize=16)\n",
        "\n",
        "# Crear un subplot con 2 filas y 3 columnas para las imágenes RGB\n",
        "fig_rgb, axes_rgb = plt.subplots(2, 3, figsize=(15, 10))\n",
        "fig_rgb.suptitle('Ventanas Cuantizadas (RGB)', fontsize=16)\n",
        "\n",
        "# Mostrar las imágenes y histogramas para BGR\n",
        "images_bgr = [windows_q_red, windows_q_green, windows_q_blue]\n",
        "titles_bgr = ['Canal Rojo N32', 'Canal Verde N32', 'Canal Azul N32']\n",
        "\n",
        "# Mostrar las imágenes y histogramas para RGB\n",
        "images_rgb = [cv2.cvtColor(img, cv2.COLOR_BGR2RGB) for img in images_bgr]  # Convertir a RGB\n",
        "titles_rgb = ['Canal Rojo N32', 'Canal Verde N32', 'Canal Azul N32']\n",
        "\n",
        "for fig, axes, images, titles in [(fig_bgr, axes_bgr, images_bgr, titles_bgr), (fig_rgb, axes_rgb, images_rgb, titles_rgb)]:\n",
        "    for i, (img, title) in enumerate(zip(images, titles)):\n",
        "        row = i // 3  # Calcular la fila del subplot\n",
        "        col = i % 3  # Calcular la columna del subplot\n",
        "        axes[row, col].imshow(img)\n",
        "        axes[row, col].set_title(title)\n",
        "\n",
        "        # Calcular y mostrar el histograma en la segunda fila (curva)\n",
        "        h = hist(img)\n",
        "        axes[row + 1, col].plot(h)\n",
        "        axes[row + 1, col].set_title(f'Histograma de {title}')\n",
        "        axes[row + 1, col].set_xlabel('Nivel de gris')\n",
        "        axes[row + 1, col].set_ylabel('Número de pixels')\n",
        "        axes[row + 1, col].grid(True, alpha=0.3)  # Agregar grid\n",
        "\n",
        "    # Ajustar el espaciado entre los subplots (mayor espaciado)\n",
        "    plt.tight_layout(pad=3.0)  # Ajustar pad para mayor espaciado\n",
        "    plt.subplots_adjust(\n",
        "        bottom=0.2, hspace=0.5)  # Ajustar hspace para mayor espaciado vertical\n",
        "\n",
        "# Mostrar las figuras\n",
        "plt.show()"
      ],
      "metadata": {
        "id": "XVC6JFNwOWPN"
      },
      "execution_count": null,
      "outputs": []
    },
    {
      "cell_type": "code",
      "source": [
        "# ... (código para leer y convertir la imagen 'windows' a escala de grises) ...\n",
        "\n",
        "def hist(img):\n",
        "    h = np.zeros(256)  # Vector para contar ocurrencias\n",
        "    for i in range(img.shape[0]):  # Para cada fila\n",
        "        for j in range(img.shape[1]):  # Para cada columna\n",
        "            h[img[i, j]] += 1  # Incrementa contador del nivel de gris\n",
        "    return h / np.sum(h)  # Normaliza para obtener probabilidades\n",
        "\n",
        "q = 64  # Factor de cuantización\n",
        "\n",
        "# Cuantizar la imagen en escala de grises\n",
        "windows_gray_q = np.floor(windows_gray / q) * q\n",
        "windows_gray_q = windows_gray_q.astype(np.uint8)\n",
        "\n",
        "# Cuantizar la imagen original (BGR o RGB)\n",
        "windows_q = np.floor(windows / q) * q\n",
        "windows_q = windows_q.astype(np.uint8)\n",
        "\n",
        "# Cuantizar canales separados (RGB)\n",
        "windows_q_red = windows.copy()\n",
        "windows_q_red[:, :, 2] = np.floor(windows[:, :, 2] / q) * q\n",
        "windows_q_red = windows_q_red.astype(np.uint8)\n",
        "\n",
        "windows_q_green = windows.copy()\n",
        "windows_q_green[:, :, 1] = np.floor(windows[:, :, 1] / q) * q\n",
        "windows_q_green = windows_q_green.astype(np.uint8)\n",
        "\n",
        "windows_q_blue = windows.copy()\n",
        "windows_q_blue[:, :, 0] = np.floor(windows[:, :, 0] / q) * q\n",
        "windows_q_blue = windows_q_blue.astype(np.uint8)\n",
        "\n",
        "(Nx, Mx) = windows_gray.shape\n",
        "\n",
        "# Crear un subplot con 2 filas y 3 columnas para las imágenes BGR\n",
        "fig_bgr, axes_bgr = plt.subplots(2, 3, figsize=(15, 10))\n",
        "fig_bgr.suptitle('Ventanas Cuantizadas (BGR)', fontsize=16)\n",
        "\n",
        "# Crear un subplot con 2 filas y 3 columnas para las imágenes RGB\n",
        "fig_rgb, axes_rgb = plt.subplots(2, 3, figsize=(15, 10))\n",
        "fig_rgb.suptitle('Ventanas Cuantizadas (RGB)', fontsize=16)\n",
        "\n",
        "# Mostrar las imágenes y histogramas para BGR\n",
        "images_bgr = [windows_q_red, windows_q_green, windows_q_blue]\n",
        "titles_bgr = ['Canal Rojo N64', 'Canal Verde N64', 'Canal Azul N64']\n",
        "\n",
        "# Mostrar las imágenes y histogramas para RGB\n",
        "images_rgb = [cv2.cvtColor(img, cv2.COLOR_BGR2RGB) for img in images_bgr]  # Convertir a RGB\n",
        "titles_rgb = ['Canal Rojo N64', 'Canal Verde N64', 'Canal Azul N64']\n",
        "\n",
        "for fig, axes, images, titles in [(fig_bgr, axes_bgr, images_bgr, titles_bgr), (fig_rgb, axes_rgb, images_rgb, titles_rgb)]:\n",
        "    for i, (img, title) in enumerate(zip(images, titles)):\n",
        "        row = i // 3  # Calcular la fila del subplot\n",
        "        col = i % 3  # Calcular la columna del subplot\n",
        "        axes[row, col].imshow(img)\n",
        "        axes[row, col].set_title(title)\n",
        "\n",
        "        # Calcular y mostrar el histograma en la segunda fila (curva)\n",
        "        h = hist(img)\n",
        "        axes[row + 1, col].plot(h)\n",
        "        axes[row + 1, col].set_title(f'Histograma de {title}')\n",
        "        axes[row + 1, col].set_xlabel('Nivel de gris')\n",
        "        axes[row + 1, col].set_ylabel('Número de pixels')\n",
        "        axes[row + 1, col].grid(True, alpha=0.3)  # Agregar grid\n",
        "\n",
        "    # Ajustar el espaciado entre los subplots (mayor espaciado)\n",
        "    plt.tight_layout(pad=3.0)  # Ajustar pad para mayor espaciado\n",
        "    plt.subplots_adjust(\n",
        "        bottom=0.2, hspace=0.5)  # Ajustar hspace para mayor espaciado vertical\n",
        "\n",
        "# Mostrar las figuras\n",
        "plt.show()"
      ],
      "metadata": {
        "id": "V-B3eXoZSNDP"
      },
      "execution_count": null,
      "outputs": []
    },
    {
      "cell_type": "markdown",
      "source": [
        "La cuantización reduce el rango dinámico de los valores de pixel.\n",
        "Cuando se baja a 32 niveles o menos, aparecen bandas de color (posterización), especialmente en zonas de degradados.\n",
        "Técnicamente, la degradación comienza a notarse más perceptiblemente en 32 o 64 niveles, dependiendo del contenido visual."
      ],
      "metadata": {
        "id": "iZdpfTT4rvcC"
      }
    },
    {
      "cell_type": "markdown",
      "source": [
        "## Segmentación por Color"
      ],
      "metadata": {
        "id": "uBt8HCkTJ70w"
      }
    },
    {
      "cell_type": "markdown",
      "source": [
        "Implementar una segmentación para extraer objetos de un color específico usando umbrales en los canales RGB."
      ],
      "metadata": {
        "id": "r-i2K0liJ_kO"
      }
    },
    {
      "cell_type": "code",
      "source": [
        "# Separación de canales de color\n",
        "rojo = windows_rgb[:,:,0]\n",
        "verde = windows_rgb[:,:,1]\n",
        "azul = windows_rgb[:,:,2]\n",
        "canales = np.concatenate((rojo,verde,azul),axis=1)\n",
        "cv2_imshow(canales)"
      ],
      "metadata": {
        "id": "XV-wzivAKlJp"
      },
      "execution_count": null,
      "outputs": []
    },
    {
      "cell_type": "code",
      "source": [
        "def info_win(windows):\n",
        "  from google.colab.patches import cv2_imshow\n",
        "\n",
        "  # Información básica de la imagen\n",
        "  print(\"Dimensiones de la imagen:\", windows.shape)\n",
        "  print(\"Tipo de datos:\", windows.dtype)\n",
        "  print(\"Tamaño en memoria (bytes):\", windows.nbytes)\n",
        "  print('Máximo =', np.max(img))   # Valor más alto (más blanco)\n",
        "  print('Mínimo =', np.min(img))   # Valor más bajo (más negro)\n",
        "  # Muestra la imagen\n",
        "  cv2_imshow(windows)"
      ],
      "metadata": {
        "id": "tpm18uGWLBzq"
      },
      "execution_count": null,
      "outputs": []
    },
    {
      "cell_type": "code",
      "source": [
        "# Conversión a escala de grises\n",
        "rojo_win = windows[:,:,0] #Accediendo al canal rojo\n",
        "verde_win = windows[:,:,1] #Accediendo al canal verde\n",
        "azul_win = windows[:,:,2] #Accediendo al canal azul\n",
        "\n",
        "#Convertir a escala de grises (promedio simple)\n",
        "gris_win = (rojo_win.astype(float) + verde_win.astype(float) + azul_win.astype(float)) / 3\n",
        "gris = gris_win.astype(int)\n",
        "\n",
        "# Llamar a la función info_img para mostrar información de la imagen\n",
        "info_win(windows) # Mostrar la información de la imagen\n",
        "\n",
        "# Función para mostrar histograma\n",
        "def histograma(X):\n",
        "    (N,M) = X.shape\n",
        "    n = 256\n",
        "    h = np.zeros((256,))\n",
        "    for i in range(N):\n",
        "        for j in range(M):\n",
        "            x = X[i,j]\n",
        "            h[x] = h[x]+1\n",
        "    plt.plot(range(n),h[0:n])\n",
        "    plt.title('Histograma')\n",
        "    plt.xlabel('Valor de pixel')\n",
        "    plt.ylabel('Frecuencia')\n",
        "    plt.show()\n",
        "\n",
        "histograma(gris)"
      ],
      "metadata": {
        "id": "RAdZnDPtTmDW"
      },
      "execution_count": null,
      "outputs": []
    },
    {
      "cell_type": "code",
      "source": [
        "# Segmentación de las ventanas verdes\n",
        "seg_r = windows_rgb[:,:,0] < 100   # Ajustar para el rojo\n",
        "seg_v = windows_rgb[:,:,1] > 1   # Ajustar para el verde\n",
        "seg_a = windows_rgb[:,:,2] < 100   # Ajustar para el azul\n",
        "\n",
        "seg_rgb = np.concatenate((seg_r,seg_v,seg_a),axis=1)\n",
        "cv2_imshow(seg_rgb*255)\n",
        "\n"
      ],
      "metadata": {
        "id": "kT5eTKaoQol5"
      },
      "execution_count": null,
      "outputs": []
    },
    {
      "cell_type": "markdown",
      "source": [
        "La segmentación es una forma de clasificar píxeles con características similares."
      ],
      "metadata": {
        "id": "MAKfI179sFEv"
      }
    },
    {
      "cell_type": "code",
      "source": [
        "seg_rv = np.logical_and(seg_r,seg_v)\n",
        "seg = np.logical_and(seg_rv,seg_a)\n",
        "cv2_imshow(seg*255)"
      ],
      "metadata": {
        "id": "URemf5xvTzXx"
      },
      "execution_count": null,
      "outputs": []
    },
    {
      "cell_type": "code",
      "source": [
        "# Eliminación de píxeles aislados\n",
        "(N,M) = seg.shape\n",
        "limpia = seg.copy()\n",
        "for i in range(N):\n",
        "    s = np.sum(seg[i,:])\n",
        "    if s<10:\n",
        "        limpia[i,:] = 0\n",
        "cv2_imshow(limpia*255)"
      ],
      "metadata": {
        "id": "ys6KtfdBT2L9"
      },
      "execution_count": null,
      "outputs": []
    },
    {
      "cell_type": "code",
      "source": [
        "# Convertimos la máscara booleana a uint8\n",
        "mascara = (limpia * 255).astype(np.uint8)\n",
        "\n",
        "# Buscar contornos\n",
        "contornos, _ = cv2.findContours(mascara, cv2.RETR_EXTERNAL, cv2.CHAIN_APPROX_SIMPLE)\n",
        "\n",
        "# Mostrar imagen original\n",
        "plt.figure(figsize=(10,8))\n",
        "img_copy = windows_rgb.copy()\n",
        "\n",
        "# Dibujar rectángulos\n",
        "for cnt in contornos:\n",
        "    x, y, w, h = cv2.boundingRect(cnt)\n",
        "    cv2.rectangle(img_copy, (x, y), (x + w, y + h), (255, 0, 0), 2)  # Azul\n",
        "\n",
        "# Mostrar resultado\n",
        "plt.imshow(img_copy)\n",
        "plt.title('Ventanas verdes delimitadas')\n",
        "plt.axis('off')\n",
        "plt.show()"
      ],
      "metadata": {
        "id": "SnIKkLUdl_er"
      },
      "execution_count": null,
      "outputs": []
    },
    {
      "cell_type": "code",
      "source": [
        "# Detección de bordes\n",
        "borde = np.zeros((N,M),np.uint8)\n",
        "# Bordes horizontales\n",
        "for i in range(N):\n",
        "    for j in range(1,M):\n",
        "        if limpia[i,j]!=limpia[i,j-1]:\n",
        "            borde[i,j] = 1\n",
        "            borde[i,j-1] = 1\n",
        "# Bordes verticales\n",
        "for i in range(1,N):\n",
        "    for j in range(M):\n",
        "        if limpia[i-1,j]!=limpia[i,j]:\n",
        "            borde[i,j] = 1\n",
        "            borde[i,j-1] = 1\n",
        "cv2_imshow(borde*255)"
      ],
      "metadata": {
        "id": "0zuc_B3DUBM6"
      },
      "execution_count": null,
      "outputs": []
    },
    {
      "cell_type": "code",
      "source": [
        "# Crear una imagen negra (todos los píxeles a 0)\n",
        "img_bordes_rojos = np.zeros_like(windows_bgr)\n",
        "\n",
        "# Aplicar solo bordes en rojo\n",
        "for i in range(N):\n",
        "    for j in range(M):\n",
        "        if borde[i, j] == 1:\n",
        "            img_bordes_rojos[i, j] = [255, 0, 0]  # Rojo sobre fondo negro\n",
        "\n",
        "cv2_imshow(img_bordes_rojos)\n"
      ],
      "metadata": {
        "id": "Q22BEyVinXIQ"
      },
      "execution_count": null,
      "outputs": []
    },
    {
      "cell_type": "code",
      "source": [
        "# Copia de la imagen original (RGB)\n",
        "img_final = windows_rgb.copy()\n",
        "\n",
        "# Aplicar bordes en rojo\n",
        "for i in range(N):\n",
        "    for j in range(M):\n",
        "        if borde[i, j] == 1:\n",
        "            img_final[i, j] = [255, 0, 0]  # Rojo puro en formato RGB\n",
        "\n",
        "cv2_imshow(img_final)\n"
      ],
      "metadata": {
        "id": "qMmjuwA_nOZi"
      },
      "execution_count": null,
      "outputs": []
    },
    {
      "cell_type": "code",
      "source": [
        "img_final_np = windows_rgb.copy()\n",
        "img_final_np[borde == 1] = [255, 0, 0]\n",
        "cv2_imshow(img_final_np)\n",
        "\n",
        "# Fondo negro con bordes rojos\n",
        "img_bordes_rojos_np = np.zeros_like(windows_rgb)\n",
        "img_bordes_rojos_np[borde == 1] = [255, 0, 0]\n",
        "cv2_imshow(img_bordes_rojos_np)\n"
      ],
      "metadata": {
        "id": "N5wgabRxUFMK"
      },
      "execution_count": null,
      "outputs": []
    },
    {
      "cell_type": "code",
      "source": [
        "# Imagen con bordes rojos sobre fondo negro\n",
        "img_bordes_rojos_np = np.zeros_like(windows_rgb)\n",
        "img_bordes_rojos_np[borde == 1] = [255, 0, 0]  # Rojo puro\n",
        "\n",
        "# Mostrar con matplotlib sin invertir canales\n",
        "plt.figure(figsize=(12, 5))\n",
        "\n",
        "plt.subplot(1, 2, 1)\n",
        "plt.imshow(img_final_np)\n",
        "plt.title(\"Bordes en rojo sobre la imagen original\")\n",
        "plt.axis('off')\n",
        "\n",
        "plt.subplot(1, 2, 2)\n",
        "plt.imshow(img_bordes_rojos_np)\n",
        "plt.title(\"Solo bordes en rojo sobre fondo negro\")\n",
        "plt.axis('off')\n",
        "\n",
        "plt.tight_layout()\n",
        "plt.show()\n"
      ],
      "metadata": {
        "id": "17EhHIHZn72Y"
      },
      "execution_count": null,
      "outputs": []
    },
    {
      "cell_type": "markdown",
      "source": [
        "## Conclusión General\n",
        "Este trabajo práctico me permitió aplicar y consolidar conocimientos fundamentales del procesamiento digital de imágenes: desde la manipulación de espacios de color y análisis de canales, hasta técnicas de muestreo, cuantización y segmentación por color. Pude familiarizarme con  herramientas como OpenCV, NumPy y Matplotlib para ejecutar transformaciones y visualizar resultados de forma clara y didáctica.\n",
        "\n",
        "Esta familiarización con las librerías me permitió un acercamiento técnico para entender cómo afectan estas operaciones a la estructura y contenido visual de las imágenes.\n"
      ],
      "metadata": {
        "id": "1SrldsIEs-h-"
      }
    },
    {
      "cell_type": "code",
      "source": [],
      "metadata": {
        "id": "Hv9vqy-DtIrp"
      },
      "execution_count": null,
      "outputs": []
    }
  ]
}